{
 "cells": [
  {
   "cell_type": "code",
   "execution_count": 1,
   "id": "7c0c2096-4c53-40af-a2bc-1ea21b10acbd",
   "metadata": {
    "tags": []
   },
   "outputs": [],
   "source": [
    "%run __init__.py\n",
    "\n",
    "from document_issue.document import DocumentHeader\n",
    "from ipyautoui import AutoUi"
   ]
  },
  {
   "cell_type": "code",
   "execution_count": 2,
   "id": "253227cc-415a-48e9-9105-43675a48aa52",
   "metadata": {
    "tags": []
   },
   "outputs": [],
   "source": [
    "# DocumentHeader.schema()"
   ]
  },
  {
   "cell_type": "code",
   "execution_count": 3,
   "id": "a422f342-2ead-4802-9115-0f843ddacb18",
   "metadata": {
    "tags": []
   },
   "outputs": [
    {
     "data": {
      "application/vnd.jupyter.widget-view+json": {
       "model_id": "02d97c2c521947cab88e0ee9c6905741",
       "version_major": 2,
       "version_minor": 0
      },
      "text/plain": [
       "DataGrid(auto_fit_params={'area': 'all', 'padding': 30, 'numCols': None}, column_widths={'a': 80}, corner_rend…"
      ]
     },
     "execution_count": 3,
     "metadata": {},
     "output_type": "execute_result"
    }
   ],
   "source": [
    "from ipydatagrid import DataGrid\n",
    "import pandas as pd\n",
    "df = pd.DataFrame({\"a\": [1,2], \"b\": [3,4]})\n",
    "DataGrid(df, layout=dict(height=\"100px\"), column_widths={\"a\": 80})"
   ]
  },
  {
   "cell_type": "code",
   "execution_count": 4,
   "id": "ce06a717-6239-40c1-a0c1-14958d05f85e",
   "metadata": {
    "tags": []
   },
   "outputs": [],
   "source": [
    "# grid.auto_fit_params = {\"area\": \"body\", \"padding\": 60, \"numCols\": 1}\n",
    "# ui.di_widgets['roles'].auto_fit_params = {\"area\": \"body\", \"padding\": 60, \"numCols\": 1}\n",
    "# ui.di_widgets['roles'].column_widths  = dict(\n",
    "#             revision=80,\n",
    "#             date=80,\n",
    "#             status_description=150,\n",
    "#             checked_by=80,\n",
    "#             issues_notes=200,\n",
    "#         )"
   ]
  },
  {
   "cell_type": "code",
   "execution_count": 5,
   "id": "28ea1bc0-b7b6-4538-b0c6-43083ec371bb",
   "metadata": {
    "tags": []
   },
   "outputs": [
    {
     "data": {
      "text/plain": [
       "['a', 'b']"
      ]
     },
     "execution_count": 5,
     "metadata": {},
     "output_type": "execute_result"
    }
   ],
   "source": [
    "from enum import Enum\n",
    "class Test(Enum):\n",
    "    a=\"aasdf\"\n",
    "    b=\"werqw\"\n",
    "Test._member_names_"
   ]
  },
  {
   "cell_type": "code",
   "execution_count": 6,
   "id": "95b39b8d-ebe2-49fe-93c1-924b96befc89",
   "metadata": {
    "tags": []
   },
   "outputs": [
    {
     "data": {
      "text/plain": [
       "{'revision': 80,\n",
       " 'date': 80,\n",
       " 'status_description': 150,\n",
       " 'checked_by': 80,\n",
       " 'issues_notes': 200}"
      ]
     },
     "execution_count": 6,
     "metadata": {},
     "output_type": "execute_result"
    }
   ],
   "source": [
    "dict(\n",
    "            revision=80,\n",
    "            date=80,\n",
    "            status_description=150,\n",
    "            checked_by=80,\n",
    "            issues_notes=200,\n",
    "        )"
   ]
  },
  {
   "cell_type": "code",
   "execution_count": 7,
   "id": "8757e649-7ab9-49c4-8c93-7db40243ed71",
   "metadata": {
    "tags": []
   },
   "outputs": [
    {
     "data": {
      "application/vnd.jupyter.widget-view+json": {
       "model_id": "3dc894693dee4b128d95a67bf32ef2b5",
       "version_major": 2,
       "version_minor": 0
      },
      "text/plain": [
       "AutoUi(children=(SaveButtonBar(children=(ToggleButton(value=False, button_style='success', disabled=True, icon…"
      ]
     },
     "execution_count": 7,
     "metadata": {},
     "output_type": "execute_result"
    }
   ],
   "source": [
    "ui = AutoUi(DocumentHeader)\n",
    "ui"
   ]
  },
  {
   "cell_type": "code",
   "execution_count": null,
   "id": "92bf66ce-3dca-4ea5-a543-a129bf4ae6dc",
   "metadata": {},
   "outputs": [],
   "source": []
  }
 ],
 "metadata": {
  "kernelspec": {
   "display_name": "Python 3 (ipykernel)",
   "language": "python",
   "name": "python3"
  },
  "language_info": {
   "codemirror_mode": {
    "name": "ipython",
    "version": 3
   },
   "file_extension": ".py",
   "mimetype": "text/x-python",
   "name": "python",
   "nbconvert_exporter": "python",
   "pygments_lexer": "ipython3",
   "version": "3.11.3"
  }
 },
 "nbformat": 4,
 "nbformat_minor": 5
}
