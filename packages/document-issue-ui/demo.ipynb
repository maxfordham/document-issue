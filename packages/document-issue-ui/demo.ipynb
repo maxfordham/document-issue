{
 "cells": [
  {
   "cell_type": "code",
   "execution_count": 1,
   "metadata": {},
   "outputs": [
    {
     "data": {
      "application/vnd.jupyter.widget-view+json": {
       "model_id": "73dcda125f0b4945ac3d914c522586cf",
       "version_major": 2,
       "version_minor": 0
      },
      "text/plain": [
       "DocumentIssueForm(children=(HBox(children=(ToggleButton(value=False, icon='plus', layout=Layout(display='', wi…"
      ]
     },
     "metadata": {},
     "output_type": "display_data"
    }
   ],
   "source": [
    "import pathlib\n",
    "\n",
    "from document_issue_ui import get_document_issue_form\n",
    "from IPython.display import display\n",
    "\n",
    "project_numbers = {\"J5003 - Default Project\": 5003, \"J5001 - Test Project\": 5001}\n",
    "map_projects = {v: k.split(\" - \")[1] for k, v in project_numbers.items()}\n",
    "project_number = 5003\n",
    "ui = get_document_issue_form(\n",
    "    project_number=project_number,\n",
    "    map_projects=map_projects,\n",
    "    path=pathlib.Path(\"docissue.json\"),\n",
    ")\n",
    "display(ui)"
   ]
  },
  {
   "cell_type": "code",
   "execution_count": 2,
   "metadata": {},
   "outputs": [],
   "source": [
    "\"\"\"Test that the custom project configuration is loaded.\"\"\"\n",
    "import os\n",
    "fpth = pathlib.Path(\"../bep/tests/data/status_revision.csv\").resolve()\n",
    "os.environ[\"BEP_STATUS_REVISION\"] = str(fpth)\n",
    "ui.update_issue_model()"
   ]
  },
  {
   "cell_type": "code",
   "execution_count": 3,
   "metadata": {},
   "outputs": [
    {
     "data": {
      "application/vnd.jupyter.widget-view+json": {
       "model_id": "97c89178e73e46408553ee1fe74b50b3",
       "version_major": 2,
       "version_minor": 0
      },
      "text/plain": [
       "IssueForm(children=(HBox(children=(ToggleButton(value=False, icon='plus', layout=Layout(display='None', width=…"
      ]
     },
     "execution_count": 3,
     "metadata": {},
     "output_type": "execute_result"
    }
   ],
   "source": [
    "ui.di_widgets[\"issue_history\"].ui_edit"
   ]
  },
  {
   "cell_type": "code",
   "execution_count": 4,
   "metadata": {},
   "outputs": [],
   "source": [
    "ui.di_widgets[\"issue_history\"].ui_edit.error"
   ]
  },
  {
   "cell_type": "code",
   "execution_count": null,
   "metadata": {},
   "outputs": [],
   "source": []
  }
 ],
 "metadata": {
  "kernelspec": {
   "display_name": "Python 3 (ipykernel)",
   "language": "python",
   "name": "python3"
  },
  "language_info": {
   "codemirror_mode": {
    "name": "ipython",
    "version": 3
   },
   "file_extension": ".py",
   "mimetype": "text/x-python",
   "name": "python",
   "nbconvert_exporter": "python",
   "pygments_lexer": "ipython3",
   "version": "3.13.1"
  }
 },
 "nbformat": 4,
 "nbformat_minor": 4
}
