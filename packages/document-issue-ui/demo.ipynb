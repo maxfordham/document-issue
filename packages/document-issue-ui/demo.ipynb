{
 "cells": [
  {
   "cell_type": "code",
   "execution_count": 1,
   "metadata": {},
   "outputs": [
    {
     "data": {
      "application/vnd.jupyter.widget-view+json": {
       "model_id": "bbd862a000bb41fdb369f22febc20b20",
       "version_major": 2,
       "version_minor": 0
      },
      "text/plain": [
       "DocumentIssueForm(children=(HBox(children=(ToggleButton(value=False, icon='plus', layout=Layout(display='', wi…"
      ]
     },
     "metadata": {},
     "output_type": "display_data"
    }
   ],
   "source": [
    "from document_issue_ui import get_document_issue_form\n",
    "from IPython.display import display\n",
    "import pathlib\n",
    "\n",
    "project_numbers = {\"J5003 - Default Project\": 5003, \"J5001 - Test Project\": 5001}\n",
    "map_projects = {v: k.split(\" - \")[1] for k, v in project_numbers.items()}\n",
    "project_number = 5003\n",
    "ui = get_document_issue_form(\n",
    "    project_number=project_number,\n",
    "    map_projects=map_projects,\n",
    "    path=pathlib.Path(\"docissue.json\"),\n",
    ")\n",
    "display(ui)"
   ]
  }
 ],
 "metadata": {
  "kernelspec": {
   "display_name": "default",
   "language": "python",
   "name": "python3"
  },
  "language_info": {
   "codemirror_mode": {
    "name": "ipython",
    "version": 3
   },
   "file_extension": ".py",
   "mimetype": "text/x-python",
   "name": "python",
   "nbconvert_exporter": "python",
   "pygments_lexer": "ipython3",
   "version": "3.13.1"
  }
 },
 "nbformat": 4,
 "nbformat_minor": 2
}
